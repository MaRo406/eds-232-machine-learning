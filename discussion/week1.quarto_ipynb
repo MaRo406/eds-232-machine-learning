{
  "cells": [
    {
      "cell_type": "markdown",
      "metadata": {},
      "source": [
        "---\n",
        "title: Discussion 1\n",
        "subtitle: Creating Widgets for Multiple Linear Regression\n",
        "description: 'Thursday, January 9th, 2025'\n",
        "jupyter:\n",
        "  jupytext:\n",
        "    text_representation:\n",
        "      extension: .qmd\n",
        "      format_name: quarto\n",
        "      format_version: '1.0'\n",
        "      jupytext_version: 1.16.4\n",
        "  kernelspec:\n",
        "    display_name: EDS 232\n",
        "    language: python\n",
        "    name: eds232-env\n",
        "---\n",
        "\n",
        "\n",
        "## Introduction\n",
        "\n",
        "In this week's discussion section, we will be using the same dataset from our weekly lab - Water characteristics in the Hudson River after Hurricane Irene. However, rather than looking at a single predictor variable, we are going to add more! Can we improve our model if we add more variables?? Let's find out. \n",
        "\n",
        "## Data Loading\n",
        "\n",
        "Access the same .xlsx file we used in lab this week. If you lost access to it, you can find the data [here](https://docs.google.com/spreadsheets/d/1MsSf679OsQpt4y6btV3tLPf-i8_bdoTZ/edit?gid=511934884#gid=511934884). Instead of looking at only the dissolved oxygen and turbidity data this time, we are also going to read in data on rainfall. Read in each of these sheets on the excel sheet as its own dataframe. Load the following libraries: \n"
      ],
      "id": "72243ed8"
    },
    {
      "cell_type": "code",
      "metadata": {},
      "source": [
        "import pandas as pd\n",
        "import numpy as np\n",
        "from sklearn.linear_model import LinearRegression\n",
        "from sklearn.model_selection import train_test_split\n",
        "from sklearn.metrics import mean_squared_error, r2_score\n",
        "import matplotlib.pyplot as plt\n",
        "from ipywidgets import interact\n",
        "import ipywidgets as widgets\n",
        "from ipywidgets import interact, FloatSlider\n",
        "from IPython.display import display, clear_output"
      ],
      "id": "7f5beae9",
      "execution_count": null,
      "outputs": []
    },
    {
      "cell_type": "code",
      "metadata": {},
      "source": [
        "# Load the data\n",
        "fp = '../data/Hurricane_Irene_Hudson_River.xlsx'\n",
        "do_data = pd.read_excel(fp, sheet_name = 5).drop(['Piermont D.O. (ppm)'], axis = 1)\n",
        "rainfall_data = pd.read_excel(fp, sheet_name='Rainfall').drop(['Piermont  Rainfall Daily Accumulation (Inches)'], axis = 1)\n",
        "turbidity_data = pd.read_excel(fp, sheet_name='Turbidity').drop(['Piermont Turbidity in NTU'], axis = 1)"
      ],
      "id": "76106a4f",
      "execution_count": null,
      "outputs": []
    },
    {
      "cell_type": "markdown",
      "metadata": {},
      "source": [
        "## Data Wrangling\n",
        "Perform the following data wrangling steps to get our data ready for our model. \n",
        "\n",
        "\n",
        "1. Merge the three dataframes together. While merging, or after, drop all columns for the Piedmont location. \n",
        "2. Update the column names to be shorter and not have spaces. Use snake case.\n",
        "3. Make your date column a datetime obect.\n",
        "4. Set the data as the index for the merged dataframe. \n"
      ],
      "id": "f53d94f8"
    },
    {
      "cell_type": "code",
      "metadata": {},
      "source": [
        "# Merge the two datasets on date\n",
        "data = rainfall_data.merge(turbidity_data, on = 'Date Time (ET)')\n",
        "data = data.merge(do_data, on = 'Date Time (ET)')\n",
        "data.head()\n",
        "\n",
        "# Update the column names \n",
        "data.columns = ['date', 'albany_rainfall', 'norrie_rainfall', 'albany_turbidity', 'norrie_turbidity','albany_do', 'norrie_do']\n",
        "\n",
        "# Convert data to datetime format and set it as index\n",
        "data['date'] = pd.to_datetime(data['date'])\n",
        "\n",
        "# Update index\n",
        "data.set_index('date', inplace=True)"
      ],
      "id": "77ba9db3",
      "execution_count": null,
      "outputs": []
    },
    {
      "cell_type": "markdown",
      "metadata": {},
      "source": [
        "## Multiple Linear Regression\n",
        "Now that our data is cleaned, let's do the following to carry out a multiple linear regression. \n",
        "\n",
        "1. Define your predictors and target variables.\n",
        "2. Split the data into training and testing sets\n",
        "3. Create and fit the model\n",
        "4. Predict and Evaluate your model\n"
      ],
      "id": "c74ad086"
    },
    {
      "cell_type": "code",
      "metadata": {},
      "source": [
        "# Define predictors and the target variable\n",
        "X = data[['albany_rainfall', 'norrie_rainfall', 'albany_do', 'norrie_do']]  # Adjust as needed\n",
        "y = data['albany_turbidity']\n",
        "\n",
        "# Split the data into training and testing sets\n",
        "X_train, X_test, y_train, y_test = train_test_split(X, y, test_size=0.3, random_state=42)\n",
        "\n",
        "# Create and fit the model\n",
        "model = LinearRegression()\n",
        "model.fit(X_train, y_train)\n",
        "\n",
        "# Predict and evaluate\n",
        "y_pred = model.predict(X_test)\n",
        "print(f\"RMSE: {np.sqrt(mean_squared_error(y_test, y_pred))}\")\n",
        "print(f\"R-squared: {r2_score(y_test, y_pred)}\")"
      ],
      "id": "6c829cba",
      "execution_count": null,
      "outputs": []
    },
    {
      "cell_type": "markdown",
      "metadata": {},
      "source": [
        "## Create a Widget for updating the predictor and target variables. \n",
        "\n",
        "1. Create the four different pieces to the widget: the predictor selector, the target selector, the evaluate button, and the output\n",
        "2. Wrap our worfklow into a function called `evaluate_model()`. This function will run a linear regression model based on what the user selects as predictors and the outcome variable. It will print the $R^2$, MSE, and a scatterplot of the actual versus predicted target variable.\n",
        "3. Create a warning for your widget to ensure that the user does not select the same variable as both a predictor variable and a target variable.\n",
        "4. Play around with your widget and see how your $R^2$ changes based on your selected variables! \n"
      ],
      "id": "de34be49"
    },
    {
      "cell_type": "code",
      "metadata": {},
      "source": [
        "# Create a widget for selecting predictors\n",
        "predictor_selector = widgets.SelectMultiple(\n",
        "    options=data.columns, # Options for predictor: columns of data\n",
        "    value=[data.columns[0]],  # Default selected: 1st column of data (albany_rainfall)\n",
        "    description='Predictors' # Name the predictor selection\n",
        ")\n",
        "\n",
        "# Create a dropdown for selecting the target variable\n",
        "target_selector = widgets.Dropdown(\n",
        "    options=data.columns, # Options for predictor: columns of data\n",
        "    value=data.columns[1],  # Default selected: 2nd column of data (norrie_rainfall)\n",
        "    description='Target',\n",
        ")\n",
        "\n",
        "# Create button to evaluate the model\n",
        "evaluate_button = widgets.Button(description=\"Evaluate Model\")\n",
        "\n",
        "# Output widget to display results\n",
        "output = widgets.Output()\n",
        "\n",
        "# Define the function to handle button clicks\n",
        "def evaluate_model(b):\n",
        "    with output:\n",
        "        clear_output(wait=True) # Clear previous displayed output before running\n",
        "        \n",
        "        # Make sure the target variable is not also a predictor variable\n",
        "        selected_predictors = [item for item in predictor_selector.value] # Pull out predictor values selected by user\n",
        "        if target_selector.value in selected_predictors: # Make sure target variable is not also a predictor variable\n",
        "            print(\"Target variable must not be in the predictors.\")\n",
        "            return\n",
        "        \n",
        "        # Assign X and y variables\n",
        "        X = data[selected_predictors]\n",
        "        y = data[target_selector.value]\n",
        "        \n",
        "        # Split data into training and testing sets\n",
        "        X_train, X_test, y_train, y_test = train_test_split(X, y, test_size=0.3, random_state=42)\n",
        "        \n",
        "        # Create and fit the model\n",
        "        model = LinearRegression()\n",
        "        model.fit(X_train, y_train)\n",
        "        \n",
        "        # Predict and calculate R^2 and MSE\n",
        "        y_pred = model.predict(X_test)\n",
        "        r2 = r2_score(y_test, y_pred)\n",
        "        mse = mean_squared_error(y_test, y_pred)\n",
        "        \n",
        "        # Display the R^2 score and MSE\n",
        "        print(f\"R^2: {r2:.4f}\")\n",
        "        print(f\"MSE: {mse:.4f}\")\n",
        "\n",
        "\n",
        "        # Create a scatter plot of y test vs predicted y\n",
        "        plt.scatter(y_test, y_pred) \n",
        "        plt.xlabel('Actual') \n",
        "        plt.ylabel('Predicted') \n",
        "        plt.title('Actual vs Predicted') \n",
        "        plt.show() \n",
        "\n",
        "\n",
        "# Display the widgets and connect the button to the function\n",
        "display(predictor_selector, target_selector, evaluate_button, output)\n",
        "evaluate_button.on_click(evaluate_model)"
      ],
      "id": "a7c43174",
      "execution_count": null,
      "outputs": []
    }
  ],
  "metadata": {
    "kernelspec": {
      "display_name": "EDS 232",
      "language": "python",
      "name": "eds232-env"
    },
    "kernel": "eds232_env",
    "jupytext": {
      "text_representation": {
        "extension": ".qmd",
        "format_name": "quarto",
        "format_version": "1.0",
        "jupytext_version": "1.16.4"
      }
    }
  },
  "nbformat": 4,
  "nbformat_minor": 5
}