{
  "cells": [
    {
      "cell_type": "raw",
      "metadata": {},
      "source": [
        "---\n",
        "title: Discussion 2\n",
        "subtitle: Utilizing synthesized data to better understand ridge and lasso regression\n",
        "description: 'Thursday, January 16th, 2025'\n",
        "---"
      ],
      "id": "94bbb855"
    },
    {
      "cell_type": "markdown",
      "metadata": {},
      "source": [
        "## Introduction\n",
        "\n",
        "In this week's discussion section, we will create some interactive plots to better undertsand how lasso and ridge regression are at work. To do so, we will use synthesized data that is made with the intention of better understanding how ridge and lasso regression are different based on the relationship of your parameters. It is important to note that your results with real data may look very different - unlike this notebook, the real world data you will be working with was not made to better understand regression models. \n",
        "\n",
        "## Data Loading\n",
        "\n",
        "Copy the code below to load the neessary libraries genereate the data we will use. Read the comments to on each feature to get an idea of the relationship between variables. \n"
      ],
      "id": "8ebdffee"
    },
    {
      "cell_type": "code",
      "metadata": {},
      "source": [
        "# Import necessary libraries\n",
        "import numpy as np\n",
        "import pandas as pd\n",
        "import matplotlib.pyplot as plt\n",
        "from sklearn.model_selection import train_test_split\n",
        "from sklearn.linear_model import Lasso, Ridge\n",
        "from sklearn.metrics import mean_squared_error, r2_score\n",
        "from ipywidgets import interact, FloatLogSlider\n",
        "\n",
        "# Generate data\n",
        "np.random.seed(42)\n",
        "n_samples = 200\n",
        "X = np.zeros((n_samples, 6))\n",
        "X[:, 0] = np.random.normal(0, 1, n_samples)  # X1 - Important feature\n",
        "X[:, 1] = np.random.normal(0, 1, n_samples)  # X2 -  Important feature\n",
        "X[:, 2] = X[:, 0] + np.random.normal(0, 0.1, n_samples)  # Correlated with X1\n",
        "X[:, 3] = X[:, 1] + np.random.normal(0, 0.1, n_samples)  # Correlated with X2\n",
        "X[:, 4] = np.random.normal(0, 0.1, n_samples)  # Noise\n",
        "X[:, 5] = np.random.normal(0, 0.1, n_samples)  # Noise\n",
        "\n",
        "y = 3 * X[:, 0] + 2 * X[:, 1] + 0.5 * X[:, 2] + np.random.normal(0, 0.1, n_samples) "
      ],
      "id": "3cc4dc6d",
      "execution_count": null,
      "outputs": []
    },
    {
      "cell_type": "markdown",
      "metadata": {},
      "source": [
        "## Regression\n",
        "\n",
        "Now that you have your data, do the following: \n",
        "\n",
        "1. Split your data into training and testing.\n"
      ],
      "id": "4791babf"
    },
    {
      "cell_type": "code",
      "metadata": {},
      "source": [
        "# Split data into training and testing sets\n",
        "X_train, X_test, y_train, y_test = train_test_split(X, y, test_size=0.3, random_state=42)"
      ],
      "id": "cf9dce4d",
      "execution_count": null,
      "outputs": []
    },
    {
      "cell_type": "markdown",
      "metadata": {},
      "source": [
        "2. Create and fit a ridge regression\n"
      ],
      "id": "62dcdb18"
    },
    {
      "cell_type": "code",
      "metadata": {},
      "source": [
        "# Create and fit Ridge regression model\n",
        "ridge_model = Ridge()\n",
        "ridge_model.fit(X_train, y_train)\n",
        "ridge_predictions = ridge_model.predict(X_test)"
      ],
      "id": "a7b89deb",
      "execution_count": null,
      "outputs": []
    },
    {
      "cell_type": "markdown",
      "metadata": {},
      "source": [
        "3. Calculate the MSE and $R^2$ for your ridge regression.\n"
      ],
      "id": "504e9200"
    },
    {
      "cell_type": "code",
      "metadata": {},
      "source": [
        "# Calculate MSE and R^2 for Ridge regression\n",
        "ridge_rmse = np.sqrt(mean_squared_error(y_test, ridge_predictions))\n",
        "ridge_r2 = r2_score(y_test, ridge_predictions)\n",
        "print(\"Ridge Regression RMSE:\", ridge_rmse)\n",
        "print(\"Ridge Regression R²:\", ridge_r2)"
      ],
      "id": "d5837acb",
      "execution_count": null,
      "outputs": []
    },
    {
      "cell_type": "markdown",
      "metadata": {},
      "source": [
        "4. Create and fit a lasso model.\n"
      ],
      "id": "30037f0b"
    },
    {
      "cell_type": "code",
      "metadata": {},
      "source": [
        "# Create and fit Lasso regression model\n",
        "lasso_model = Lasso() \n",
        "lasso_model.fit(X_train, y_train)\n",
        "lasso_predictions = lasso_model.predict(X_test)"
      ],
      "id": "c4e32e49",
      "execution_count": null,
      "outputs": []
    },
    {
      "cell_type": "markdown",
      "metadata": {},
      "source": [
        "5. Calculate the MSE and $R^2$ for your lasso model.\n"
      ],
      "id": "f7fcd4e6"
    },
    {
      "cell_type": "code",
      "metadata": {},
      "source": [
        "# Calculate RMSE and R^2 for Lasso regression\n",
        "lasso_rmse = np.sqrt(mean_squared_error(y_test, lasso_predictions))\n",
        "lasso_r2 = r2_score(y_test, lasso_predictions)\n",
        "print(\"Lasso Regression RMSE:\", lasso_rmse)\n",
        "print(\"Lasso Regression R²:\", lasso_r2)"
      ],
      "id": "fe509ea8",
      "execution_count": null,
      "outputs": []
    },
    {
      "cell_type": "markdown",
      "metadata": {},
      "source": [
        "## Visualizing Ridge vs Regression\n",
        "\n",
        "1. Create a plot that looks at the alpha against the MSE for both lasso and ridge regression.\n"
      ],
      "id": "5d8fe830"
    },
    {
      "cell_type": "code",
      "metadata": {},
      "source": [
        "# Visualize alphas against RMSE for lasso and ridge\n",
        "\n",
        "# Initialize lists to append data into\n",
        "rmse_lasso = []\n",
        "rmse_ridge = []\n",
        "\n",
        "# Define alpha values to iterate over\n",
        "alphas = [0.1,1,10]\n",
        "\n",
        "# Create and fit a lasso and ridge model for each predefined alpha\n",
        "for alpha in alphas:\n",
        "    lasso = Lasso(alpha=alpha)\n",
        "    ridge = Ridge(alpha=alpha)\n",
        "    \n",
        "    lasso.fit(X_train, y_train)\n",
        "    ridge.fit(X_train, y_train)\n",
        "\n",
        "    # Calculate rmse for both models\n",
        "    rmse_lasso.append(np.sqrt(mean_squared_error(y_test, lasso.predict(X_test))))\n",
        "    rmse_ridge.append(np.sqrt(mean_squared_error(y_test, ridge.predict(X_test))))\n",
        "\n",
        "# Create plot of MSE again alpha values \n",
        "plt.figure(figsize=(10, 5))\n",
        "plt.plot(alphas, rmse_lasso, label='Lasso MSE')\n",
        "plt.plot(alphas, rmse_ridge, label='Ridge MSE')\n",
        "plt.xscale('log')\n",
        "plt.xlabel('Alpha')\n",
        "plt.ylabel('Root Mean Squared Error')\n",
        "plt.title('RMSE vs. Alpha for Lasso and Ridge Regression')\n",
        "plt.legend()\n",
        "plt.show()"
      ],
      "id": "c1c9b002",
      "execution_count": null,
      "outputs": []
    },
    {
      "cell_type": "markdown",
      "metadata": {},
      "source": [
        "2. Create an interactive plot (for both lasso and ridge) that allows you to adjust alpha to see how the actual vs predicted values are changing.\n"
      ],
      "id": "94c1404d"
    },
    {
      "cell_type": "code",
      "metadata": {},
      "source": [
        "# Create function to run model and create plot\n",
        "\n",
        "def update_alphas(alpha, model_type):\n",
        "\n",
        "    # Condition to allow user to select different models\n",
        "    if model_type == 'Lasso':\n",
        "        model = Lasso(alpha=alpha)\n",
        "    else:\n",
        "        model = Ridge(alpha=alpha)\n",
        "\n",
        "    # Fit and predict model\n",
        "    model.fit(X_train, y_train)\n",
        "    y_pred = model.predict(X_test)\n",
        "\n",
        "    # Calculate model metrics\n",
        "    rmse = np.sqrt(mean_squared_error(y_test, y_pred))\n",
        "    r2 = r2_score(y_test, y_pred)\n",
        "\n",
        "    # Create plot of predicted values against actual values with line of best fit\n",
        "    plt.figure(figsize=(10, 5))\n",
        "    # Add predicted and actual values\n",
        "    plt.scatter(y_test, y_pred, color='blue', alpha=0.5, label=f'Predictions (alpha={alpha})')\n",
        "    # Add line of best fit\n",
        "    plt.plot([y_test.min(), y_test.max()], [y_test.min(), y_test.max()], 'k--', lw=2)\n",
        "    plt.title(f'{model_type} Regression: Predictions vs Actual (alpha={alpha})')\n",
        "    plt.xlabel('Actual Values')\n",
        "    plt.ylabel('Predicted Values')\n",
        "    plt.legend()\n",
        "    # Adjust the position and aesthetics of the metric box\n",
        "    plt.figtext(0.5, -0.05, f'MSE: {rmse:.2f}, R²: {r2:.2f}', ha=\"center\", fontsize=12, bbox={\"facecolor\":\"orange\", \"alpha\":0.5, \"pad\":5})\n",
        "    plt.show()\n",
        "\n",
        "# Create interactive widgets\n",
        "\n",
        "# Create alpha slider for choosing alpha value\n",
        "alpha_slider = FloatLogSlider(value= 0 , base=10, min=-3, max=3, step=0.1, description='Pick an Alpha!')\n",
        "\n",
        "# Create model selector for picking which model user wants to look at\n",
        "model_selector = {'Lasso': 'Lasso', 'Ridge': 'Ridge'}\n",
        "\n",
        "# Combine two widgets with model/plot output\n",
        "interact(update_alphas, alpha=alpha_slider, model_type=model_selector)"
      ],
      "id": "ba7c392b",
      "execution_count": null,
      "outputs": []
    },
    {
      "cell_type": "markdown",
      "metadata": {},
      "source": [
        "3. Create three different bar plots with the following guidelines:\n",
        "Each plot should represent a different alpha value: Alpha = 0.1, Alpha = 1, Alpha = 10\n",
        "Each plot should show how both the ridge and lasso model performed\n",
        "The y axis should represent the six different variables: `X1`, `X2`, `X1_corr`, `X2_corr`, `Noise1`, `Noise2`. The y axis should represent the coefficients\n"
      ],
      "id": "5d488ff6"
    },
    {
      "cell_type": "code",
      "metadata": {},
      "source": [
        "# Define alpha values to iterate over\n",
        "alphas = [0.1, 1.0, 10.0]\n",
        "data = []\n",
        "\n",
        "# Create and fit ridge and lasso models and store coefficients in a new dataframe\n",
        "for alpha in alphas:\n",
        "    ridge = Ridge(alpha=alpha).fit(X_train, y_train)\n",
        "    lasso = Lasso(alpha=alpha).fit(X_train, y_train)\n",
        "    data.append(pd.DataFrame({\n",
        "        'Ridge': ridge.coef_, # coef has as many indexes as there are variables\n",
        "        'Lasso': lasso.coef_\n",
        "    }, index=['X1', 'X2', 'X1_corr', 'X2_corr', 'Noise1', 'Noise2'])) # create feature names in new dataframe\n",
        "\n",
        "\n",
        "# Create barplot to visualize how coefficients change across alpha values and models\n",
        "fig, axes = plt.subplots(1, 3, figsize=(12, 4), sharey=True) \n",
        "for i, df in enumerate(data): \n",
        "    df.plot.bar(ax=axes[i], width= 0.8)\n",
        "    axes[i].set_title(f'Alpha = {alphas[i]}')\n",
        "    axes[i].set_xticklabels(df.index, rotation=45)\n",
        "    \n",
        "plt.show()"
      ],
      "id": "5a462631",
      "execution_count": null,
      "outputs": []
    }
  ],
  "metadata": {
    "kernelspec": {
      "display_name": "EDS 232",
      "language": "python",
      "name": "eds232-env"
    },
    "kernel": "eds232_env",
    "jupytext": {
      "text_representation": {
        "extension": ".qmd",
        "format_name": "quarto",
        "format_version": "1.0",
        "jupytext_version": "1.16.4"
      }
    }
  },
  "nbformat": 4,
  "nbformat_minor": 5
}